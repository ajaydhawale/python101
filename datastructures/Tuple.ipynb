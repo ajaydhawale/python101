{
 "cells": [
  {
   "cell_type": "code",
   "execution_count": null,
   "metadata": {
    "collapsed": false
   },
   "outputs": [],
   "source": [
    "# Tuple: Immutable sequence of objects\n",
    "t = tuple(range(1,5))\n",
    "print (t)"
   ]
  },
  {
   "cell_type": "code",
   "execution_count": null,
   "metadata": {
    "collapsed": false
   },
   "outputs": [],
   "source": [
    "## Tuples usually contain a heterogeneous sequence of elements that are\n",
    "# accessed via unpacking or indexing\n",
    "t = (2, 1, 3, 2, 1, ['A', 'B'])\n",
    "print (t[5])"
   ]
  },
  {
   "cell_type": "code",
   "execution_count": null,
   "metadata": {
    "collapsed": false
   },
   "outputs": [],
   "source": [
    "# Refer: tuple script.py\n",
    "# from sys import argv\n",
    "# script, var1, var2 = argv\n",
    "# print (script, var1, var2)\n",
    "# print (argv[0], argv[1], argv[2])"
   ]
  },
  {
   "cell_type": "code",
   "execution_count": null,
   "metadata": {
    "collapsed": false
   },
   "outputs": [],
   "source": [
    "# Operations\n",
    "print (t.count(1)) # return number of occurrences of value\n",
    "print (t.index(2)) # return 1st index of value supplied\n",
    "\n",
    "# Do NOT have operations like tuple.append, tuple.pop as list had"
   ]
  },
  {
   "cell_type": "code",
   "execution_count": null,
   "metadata": {
    "collapsed": false
   },
   "outputs": [],
   "source": [
    "t[5].append('C') # Note: objects in a tuple themselves can mutate\n",
    "print (t)"
   ]
  },
  {
   "cell_type": "code",
   "execution_count": null,
   "metadata": {
    "collapsed": true
   },
   "outputs": [],
   "source": [
    "# Recap / Repeat -- Tuple: Immutable sequence of objects"
   ]
  }
 ],
 "metadata": {
  "kernelspec": {
   "display_name": "Python 3",
   "language": "python",
   "name": "python3"
  },
  "language_info": {
   "codemirror_mode": {
    "name": "ipython",
    "version": 3.0
   },
   "file_extension": ".py",
   "mimetype": "text/x-python",
   "name": "python",
   "nbconvert_exporter": "python",
   "pygments_lexer": "ipython3",
   "version": "3.5.1"
  }
 },
 "nbformat": 4,
 "nbformat_minor": 0
}