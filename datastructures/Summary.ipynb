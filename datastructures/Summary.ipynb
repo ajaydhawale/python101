{
 "cells": [
  {
   "cell_type": "code",
   "execution_count": null,
   "metadata": {
    "collapsed": true
   },
   "outputs": [],
   "source": [
    "# List: Sequence of objects\n",
    "# Tuple: Immutable sequence of objects\n",
    "# Sets: Collection of unique and immutable objects\n",
    "# Frozen Sets: Immutable Sets\n",
    "# Dictionary: Collection of key, value pairs. Keys should be \n",
    "#             unique and immutable\n",
    "\n",
    "# Reflecting over the words 'sequence', 'collection', 'mutability'\n",
    "# the above bullets help as a summary on data structures, on the kind of\n",
    "# elements / objects that can participate, and nature of operations \n",
    "# possible (e.g. : if the data structure is not mutable, will have not \n",
    "# operations like append or pop)"
   ]
  }
 ],
 "metadata": {
  "kernelspec": {
   "display_name": "Python 3",
   "language": "python",
   "name": "python3"
  },
  "language_info": {
   "codemirror_mode": {
    "name": "ipython",
    "version": 3.0
   },
   "file_extension": ".py",
   "mimetype": "text/x-python",
   "name": "python",
   "nbconvert_exporter": "python",
   "pygments_lexer": "ipython3",
   "version": "3.5.1"
  }
 },
 "nbformat": 4,
 "nbformat_minor": 0
}