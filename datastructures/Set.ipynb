{
 "cells": [
  {
   "cell_type": "code",
   "execution_count": null,
   "metadata": {
    "collapsed": false
   },
   "outputs": [],
   "source": [
    "# Set: Collection of unique and immutable objects\n",
    "\n",
    "# Basic use cases: membership testing, duplicate elimination\n",
    "\n",
    "# set(iterable) -> new set object\n",
    "\n",
    "s = set(\"MEETUP\") \n",
    "l = list(\"MEETUP\")\n",
    "\n",
    "print (s) # Notice no duplicates. Also, sequence not guaranteed\n",
    "print (l)"
   ]
  },
  {
   "cell_type": "code",
   "execution_count": null,
   "metadata": {
    "collapsed": false
   },
   "outputs": [],
   "source": [
    "l = ['A', 'B']\n",
    "s = set(l) # picks elements 'A' & 'B' to construct set\n",
    "print (s, id(s))\n",
    "s.add('C') # Add an element\n",
    "print (s, id(s)) # Note: mutation)"
   ]
  },
  {
   "cell_type": "code",
   "execution_count": null,
   "metadata": {
    "collapsed": false,
    "scrolled": true
   },
   "outputs": [],
   "source": [
    "list2 = [['C']] # List contains a list element inside\n",
    "set2 = set(list2) # Throws error as the list element is mutable"
   ]
  },
  {
   "cell_type": "code",
   "execution_count": null,
   "metadata": {
    "collapsed": false
   },
   "outputs": [],
   "source": [
    "t = (2, 1, 3, 2, 1, list2)\n",
    "print (t) # Works as tuple allows object to be mutable (while t itself is not)\n",
    "s3 = set(t) # Throws error same as above as t now has a mutable element"
   ]
  },
  {
   "cell_type": "code",
   "execution_count": null,
   "metadata": {
    "collapsed": false
   },
   "outputs": [],
   "source": [
    "# Some of the operations\n",
    "s1 = set(\"MEETUP\")\n",
    "s2 = set(\"PUNE\")\n",
    "\n",
    "# Intersection : returns a (new) set \n",
    "print (\"Intersection :\", s1.intersection(s2), id(s1), id(s2), id(s1.intersection(s2)))"
   ]
  },
  {
   "cell_type": "code",
   "execution_count": null,
   "metadata": {
    "collapsed": false
   },
   "outputs": [],
   "source": [
    "# Similarly union, difference\n",
    "print (\"Union :\", s1.union(s2), id(s1), id(s2), id(s1.union(s2)))\n",
    "print (\"Difference :\", s1.difference(s2), id(s1), id(s2), id(s1.difference(s2)))"
   ]
  },
  {
   "cell_type": "code",
   "execution_count": null,
   "metadata": {
    "collapsed": true
   },
   "outputs": [],
   "source": [
    "# Bunch of other operations such as add, remove, symmetric difference, \n",
    "# issuperset, etc. Refer pydoc"
   ]
  },
  {
   "cell_type": "code",
   "execution_count": null,
   "metadata": {
    "collapsed": true
   },
   "outputs": [],
   "source": [
    ""
   ]
  },
  {
   "cell_type": "code",
   "execution_count": null,
   "metadata": {
    "collapsed": true
   },
   "outputs": [],
   "source": [
    "# Frozen Set -- immutable sets ==> \n",
    "# Unordered immutable collection of unique and immutable objects"
   ]
  }
 ],
 "metadata": {
  "kernelspec": {
   "display_name": "Python 3",
   "language": "python",
   "name": "python3"
  },
  "language_info": {
   "codemirror_mode": {
    "name": "ipython",
    "version": 3.0
   },
   "file_extension": ".py",
   "mimetype": "text/x-python",
   "name": "python",
   "nbconvert_exporter": "python",
   "pygments_lexer": "ipython3",
   "version": "3.5.1"
  }
 },
 "nbformat": 4,
 "nbformat_minor": 0
}