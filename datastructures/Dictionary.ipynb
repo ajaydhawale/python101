{
 "cells": [
  {
   "cell_type": "code",
   "execution_count": null,
   "metadata": {
    "collapsed": false
   },
   "outputs": [],
   "source": [
    "# Dictionary: Collection of key, value pairs\n",
    "# Keys should be unique and immutable\n",
    "\n",
    "d = {} # empty dictionary\n",
    "d['A'] = 1\n",
    "d['B'] = 2\n",
    "print (d)"
   ]
  },
  {
   "cell_type": "code",
   "execution_count": null,
   "metadata": {
    "collapsed": false
   },
   "outputs": [],
   "source": [
    "d['A'] = 3 # overwrite\n",
    "print (d)"
   ]
  },
  {
   "cell_type": "code",
   "execution_count": null,
   "metadata": {
    "collapsed": false
   },
   "outputs": [],
   "source": [
    "l = ['C']\n",
    "d[l] = 4 # creating a key with mutable element throws unhashable type error\n",
    "print(d)"
   ]
  },
  {
   "cell_type": "code",
   "execution_count": null,
   "metadata": {
    "collapsed": false
   },
   "outputs": [],
   "source": [
    "d = {'A': [1, 2], 'B': [3,4]} # values can be mutable\n",
    "print (d)"
   ]
  },
  {
   "cell_type": "code",
   "execution_count": null,
   "metadata": {
    "collapsed": false
   },
   "outputs": [],
   "source": [
    "d['A'].append(5)\n",
    "print(d)"
   ]
  },
  {
   "cell_type": "code",
   "execution_count": null,
   "metadata": {
    "collapsed": false
   },
   "outputs": [],
   "source": [
    "# Some operations\n",
    "print (d.keys()) # a set-like object providing a view on D's keys\n",
    "print (d.values()) # an object providing a view on D's values\n",
    "print (d.items()) # a set-like object providing a view on D's items\n",
    "\n",
    "for k in d.keys():\n",
    "    print (k)\n",
    "\n",
    "# Additional: refer pydoc\n",
    "\n",
    "# Side note: in Python 2.7 d.keys() would return list of D's keys"
   ]
  },
  {
   "cell_type": "code",
   "execution_count": null,
   "metadata": {
    "collapsed": false
   },
   "outputs": [],
   "source": [
    "fibval = {}\n",
    "def fibonacci(n):\n",
    "    if fibval.get(n) != None:\n",
    "        return fibval[n]\n",
    "    elif n == 0:\n",
    "        return 0\n",
    "    elif n == 1:\n",
    "        return 1\n",
    "    else:\n",
    "        fibval[n] = fibonacci(n-1) + fibonacci(n-2)\n",
    "        return fibval[n]\n",
    "print (fibonacci(10))"
   ]
  },
  {
   "cell_type": "code",
   "execution_count": null,
   "metadata": {
    "collapsed": false
   },
   "outputs": [],
   "source": [
    "# Input: Name, Subject, Marks\n",
    "# Find highest scorer in each subject\n",
    "\n",
    "l = [\"Ajay,Physics,99\", \"Ajay,Chemistry,98\", \"Ajay,Maths,97\",\n",
    "     \"Abhijeet,Physics,100\", \"Abhijeet,Chemistry,96\", \"Abhijeet,Maths,96\",\n",
    "     \"Mahesh,Physics,99\", \"Mahesh,Chemistry,97\", \"Mahesh,Maths,99\"\n",
    "     ]\n",
    "\n",
    "maxScore = {}  # Empty dictionary. Used as -- key: subject, value: dictionary {'name': highest_score}\n",
    "\n",
    "for element in l:\n",
    "    name, subject, score = element.strip().split(\",\")\n",
    "    if maxScore.get(subject) != None:\n",
    "        if int(maxScore[subject]['score']) < int(score):\n",
    "            maxScore.pop(subject)\n",
    "            d = {'name': name, 'score': score}\n",
    "            maxScore[subject] = d\n",
    "    else:\n",
    "        d = {'name': name, 'score': score}\n",
    "        maxScore[subject] = d\n",
    "\n",
    "for key in maxScore.keys():\n",
    "    print (key, maxScore[key]['score'], maxScore[key]['name'])"
   ]
  },
  {
   "cell_type": "code",
   "execution_count": null,
   "metadata": {
    "collapsed": true
   },
   "outputs": [],
   "source": [
    ""
   ]
  }
 ],
 "metadata": {
  "kernelspec": {
   "display_name": "Python 3",
   "language": "python",
   "name": "python3"
  },
  "language_info": {
   "codemirror_mode": {
    "name": "ipython",
    "version": 3.0
   },
   "file_extension": ".py",
   "mimetype": "text/x-python",
   "name": "python",
   "nbconvert_exporter": "python",
   "pygments_lexer": "ipython3",
   "version": "3.5.1"
  }
 },
 "nbformat": 4,
 "nbformat_minor": 0
}